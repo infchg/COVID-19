{
 "cells": [
  {
   "cell_type": "markdown",
   "metadata": {},
   "source": [
    "# Data Updates \n",
    "### 2020/3/1\n",
    "\n",
    "\n",
    "## Reference\n",
    "- 1. Li, Q., Guan, X., et al. (2020, January 29). Early Transmission Dynamics in Wuhan, China, of Novel Coronavirus–Infected Pneumonia. The New England Journal of Medicine. https://www.nejm.org/doi/full/10.1056/NEJMoa2001316#article_references\n",
    "\n",
    "- Github /YijunWang/Estimation of R0_Yijun/Estimation of R0.ipynb \n",
    "\n" 
   ]
  },
  {
   "cell_type": "code",
   "execution_count": 2,
   "metadata": {},
   "outputs": [],
   "source": [
    "# load data\n",
    "import requests\n",
    "import pandas \n",
    "\n",
    "url = 'https://lab.isaaclin.cn/nCoV/api/overall?latest=1'\n",
    "r = requests.request('GET', url)\n",
    "data = r.json()\n",
    "df = pandas.DataFrame.from_records(data['results'])\n",
    "from datetime import datetime\n",
    "df.head()\n",
    "\n",
    "# date\n",
    "df['t'] = pandas.to_datetime(df['updateTime']/1000,unit='s')\n",
    "import datetime\n",
    "df = df.resample('D', on = 't').max()\n",
    "df['date'] = df['t'].dt.date"
   ]
  }
 ],
 "metadata": {
  "kernelspec": {
   "display_name": "Python 3",
   "language": "python",
   "name": "python3"
  },
  "language_info": {
   "codemirror_mode": {
    "name": "ipython",
    "version": 3
   },
   "file_extension": ".py",
   "mimetype": "text/x-python",
   "name": "python",
   "nbconvert_exporter": "python",
   "pygments_lexer": "ipython3",
   "version": "3.7.4"
  }
 },
 "nbformat": 4,
 "nbformat_minor": 2
}
